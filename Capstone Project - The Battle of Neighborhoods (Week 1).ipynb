{
 "cells": [
  {
   "cell_type": "markdown",
   "metadata": {},
   "source": [
    "# Business Problem"
   ]
  },
  {
   "cell_type": "markdown",
   "metadata": {},
   "source": [
    "Expat life in Amsterdam can be exciting but it doesn't come without challenges. One of the most common challenges for expats arriving to Amsterdam is housing. If you're a local you might have a good feeling for the neighbourhoods in Amsterdam - what unites them and how they differ. But as an expat, you lack that knowledge and it will take you quite some time to get acquainted with Amsterdam to know which neighbourhood might suit you.  \n",
    "\n",
    "So what to do? How to determine which neighbourhood is the right one for you when you are new to Amsterdam? You could spend days of your life googling about each and every neighbourhood or you could have a look at the Amsterdam Neighbourhood Map I will be building."
   ]
  },
  {
   "cell_type": "markdown",
   "metadata": {},
   "source": [
    "# Data "
   ]
  },
  {
   "cell_type": "markdown",
   "metadata": {},
   "source": [
    "In order to create the Amsterdam Neighbourhood Map, we will need to cluster Amsterdam neighbourhoods based on various data points that we can obtain about the neighbourhoods. The neighbourhoods will be clustered based on data coming from the city of Amsterdam, the TomTom Search API and the Foursquare Places API."
   ]
  },
  {
   "cell_type": "markdown",
   "metadata": {},
   "source": [
    "#### City of Amsterdam Neighbourhood Data"
   ]
  },
  {
   "cell_type": "markdown",
   "metadata": {},
   "source": [
    "The city of Amsterdam provides a variety of datasets to the public. We will be leveraging on a variety of datasets that will give us insights into the housing stock, housing prices and residents of each neighbourhood."
   ]
  },
  {
   "cell_type": "markdown",
   "metadata": {},
   "source": [
    "#### TomTom Search API"
   ]
  },
  {
   "cell_type": "markdown",
   "metadata": {},
   "source": [
    "To be able to create a map with the neighbourhoods of Amsterdam and levarage on the Foursquare Places API, we will need to geocode the Amsterdam neighbourhoods. With the TomTom Search API we will obtain latitude and longitude for each neighbourhood in Amsterdam. \n"
   ]
  },
  {
   "cell_type": "markdown",
   "metadata": {},
   "source": [
    "#### Foursquare Places API"
   ]
  },
  {
   "cell_type": "markdown",
   "metadata": {},
   "source": [
    "The Foursquare Places API will be used to gain insight into the number and type of venues in each of the neighbourhoods."
   ]
  }
 ],
 "metadata": {
  "kernelspec": {
   "display_name": "Python 3",
   "language": "python",
   "name": "python3"
  },
  "language_info": {
   "codemirror_mode": {
    "name": "ipython",
    "version": 3
   },
   "file_extension": ".py",
   "mimetype": "text/x-python",
   "name": "python",
   "nbconvert_exporter": "python",
   "pygments_lexer": "ipython3",
   "version": "3.7.4"
  }
 },
 "nbformat": 4,
 "nbformat_minor": 2
}
